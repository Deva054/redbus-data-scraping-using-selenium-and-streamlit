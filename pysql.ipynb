{
 "cells": [
  {
   "cell_type": "code",
   "execution_count": null,
   "id": "3ecfffc9-70e1-4218-b284-3c76eb86ab48",
   "metadata": {},
   "outputs": [
    {
     "name": "stdout",
     "output_type": "stream",
     "text": [
      "Data inserted successfully!\n"
     ]
    }
   ],
   "source": [
    "import pandas as pd\n",
    "import pymysql\n",
    "\n",
    "# List of CSV file paths\n",
    "csv_files = [r\"data/ap_bus_details.csv\", r\"data/kerala_bus_details.csv\", r\"data/Telangana_bus_details.csv\"]   \n",
    "\n",
    "# Step 1: Read and concatenate all CSV files into a single DataFrame\n",
    "df_list = [pd.read_csv(file) for file in csv_files]\n",
    "combined_df = pd.concat(df_list, ignore_index=True)\n",
    "\n",
    "# Step 2: Add an ID column to the combined DataFrame\n",
    "combined_df.insert(0, 'id', range(1, len(combined_df) + 1))\n",
    "\n",
    "# Step 3: Clean the data\n",
    "combined_df['Price'] = combined_df['Price'].str.replace('INR ', '')  # Remove 'INR ' from Price\n",
    "combined_df['Seat_Availability'] = combined_df['Seat_Availability'].str.extract('(\\d+)')  # Extract digits\n",
    "\n",
    "# Step 4: Drop any rows with NaN values\n",
    "combined_df = combined_df.dropna()\n",
    "\n",
    "# Step 5: Save the combined DataFrame to a CSV file if needed\n",
    "combined_df.to_csv(\"bus_routes.csv\", index=False)\n",
    "\n",
    "# Step 6: Connect to MySQL and create the table\n",
    "myconnection = pymysql.connect(host='localhost', user='root', passwd='1234', database=\"redbus\")\n",
    "cursor = myconnection.cursor()\n",
    "\n",
    "# Define table creation query based on column types\n",
    "column_definitions = \", \".join(f\"{col} {dtype}\" for col, dtype in zip(combined_df.columns, combined_df.dtypes))\n",
    "column_definitions = column_definitions.replace(\"float64\", \"FLOAT\").replace(\"object\", \"TEXT\").replace(\"int64\", \"INT\")\n",
    "table_name = \"bus_routes\"\n",
    "cursor.execute(f\"CREATE TABLE IF NOT EXISTS {table_name} ({column_definitions});\")\n",
    "\n",
    "# Step 7: Insert data into MySQL table\n",
    "for _, row in combined_df.iterrows():\n",
    "    cursor.execute(f\"INSERT INTO {table_name} VALUES {tuple(row)}\")\n",
    "\n",
    "# Step 8: Commit and close the connection\n",
    "myconnection.commit()\n",
    "cursor.close()\n",
    "myconnection.close()\n",
    "\n",
    "print(\"Data inserted successfully!\")\n"
   ]
  }
 ],
 "metadata": {
  "kernelspec": {
   "display_name": "src",
   "language": "python",
   "name": "python3"
  },
  "language_info": {
   "codemirror_mode": {
    "name": "ipython",
    "version": 3
   },
   "file_extension": ".py",
   "mimetype": "text/x-python",
   "name": "python",
   "nbconvert_exporter": "python",
   "pygments_lexer": "ipython3",
   "version": "3.11.1"
  }
 },
 "nbformat": 4,
 "nbformat_minor": 5
}
